{
 "cells": [
  {
   "cell_type": "code",
   "execution_count": 10,
   "metadata": {},
   "outputs": [
    {
     "ename": "NameError",
     "evalue": "name 'install' is not defined",
     "output_type": "error",
     "traceback": [
      "\u001b[1;31m---------------------------------------------------------------------------\u001b[0m",
      "\u001b[1;31mNameError\u001b[0m                                 Traceback (most recent call last)",
      "\u001b[1;32m<ipython-input-10-d1a1fe643ee6>\u001b[0m in \u001b[0;36m<module>\u001b[1;34m\u001b[0m\n\u001b[0;32m      1\u001b[0m \u001b[1;31m## Install from CRAN\u001b[0m\u001b[1;33m\u001b[0m\u001b[1;33m\u001b[0m\u001b[1;33m\u001b[0m\u001b[0m\n\u001b[1;32m----> 2\u001b[1;33m \u001b[0minstall\u001b[0m\u001b[1;33m.\u001b[0m\u001b[0mpackages\u001b[0m\u001b[1;33m(\u001b[0m\u001b[1;34m'blogdown'\u001b[0m\u001b[1;33m)\u001b[0m\u001b[1;33m\u001b[0m\u001b[1;33m\u001b[0m\u001b[0m\n\u001b[0m\u001b[0;32m      3\u001b[0m \u001b[1;31m## Or, install from GitHub\u001b[0m\u001b[1;33m\u001b[0m\u001b[1;33m\u001b[0m\u001b[1;33m\u001b[0m\u001b[0m\n\u001b[0;32m      4\u001b[0m \u001b[0minstall\u001b[0m\u001b[1;33m.\u001b[0m\u001b[0mpackages\u001b[0m\u001b[1;33m(\u001b[0m\u001b[1;34m'devtools'\u001b[0m\u001b[1;33m)\u001b[0m\u001b[1;33m\u001b[0m\u001b[1;33m\u001b[0m\u001b[0m\n",
      "\u001b[1;31mNameError\u001b[0m: name 'install' is not defined"
     ]
    }
   ],
   "source": [
    "## https://github.com/sourcethemes/academic-admin"
   ]
  },
  {
   "cell_type": "code",
   "execution_count": 1,
   "metadata": {},
   "outputs": [
    {
     "name": "stdout",
     "output_type": "stream",
     "text": [
      "Collecting academic\n",
      "  Downloading academic-0.7.0-py3-none-any.whl (12 kB)\n",
      "Collecting bibtexparser==1.1.0\n",
      "  Downloading bibtexparser-1.1.0.tar.gz (46 kB)\n",
      "\u001b[K     |████████████████████████████████| 46 kB 1.7 MB/s eta 0:00:01\n",
      "\u001b[?25hCollecting ruamel.yaml==0.16.10\n",
      "  Downloading ruamel.yaml-0.16.10-py2.py3-none-any.whl (111 kB)\n",
      "\u001b[K     |████████████████████████████████| 111 kB 3.6 MB/s eta 0:00:01\n",
      "\u001b[?25hRequirement already satisfied: toml in /usr/local/anaconda3/lib/python3.8/site-packages (from academic) (0.10.2)\n",
      "Requirement already satisfied: requests in /usr/local/anaconda3/lib/python3.8/site-packages (from academic) (2.25.1)\n",
      "Requirement already satisfied: pyparsing>=2.0.3 in /usr/local/anaconda3/lib/python3.8/site-packages (from bibtexparser==1.1.0->academic) (2.4.7)\n",
      "Requirement already satisfied: future>=0.16.0 in /usr/local/anaconda3/lib/python3.8/site-packages (from bibtexparser==1.1.0->academic) (0.18.2)\n",
      "Collecting ruamel.yaml.clib>=0.1.2\n",
      "  Downloading ruamel.yaml.clib-0.2.6-cp38-cp38-macosx_10_9_x86_64.whl (142 kB)\n",
      "\u001b[K     |████████████████████████████████| 142 kB 5.9 MB/s eta 0:00:01\n",
      "\u001b[?25hRequirement already satisfied: idna<3,>=2.5 in /usr/local/anaconda3/lib/python3.8/site-packages (from requests->academic) (2.10)\n",
      "Requirement already satisfied: certifi>=2017.4.17 in /usr/local/anaconda3/lib/python3.8/site-packages (from requests->academic) (2020.12.5)\n",
      "Requirement already satisfied: chardet<5,>=3.0.2 in /usr/local/anaconda3/lib/python3.8/site-packages (from requests->academic) (4.0.0)\n",
      "Requirement already satisfied: urllib3<1.27,>=1.21.1 in /usr/local/anaconda3/lib/python3.8/site-packages (from requests->academic) (1.26.4)\n",
      "Building wheels for collected packages: bibtexparser\n",
      "  Building wheel for bibtexparser (setup.py) ... \u001b[?25ldone\n",
      "\u001b[?25h  Created wheel for bibtexparser: filename=bibtexparser-1.1.0-py3-none-any.whl size=37091 sha256=46ee42058df317fd92b6f13f5eeba21a31a9c0e3816fdea6420546948ba1672e\n",
      "  Stored in directory: /Users/erickaxxe/Library/Caches/pip/wheels/fe/c0/e7/199545741b30ceb5963fb879a05658c59aca36a44ed79a7eb5\n",
      "Successfully built bibtexparser\n",
      "Installing collected packages: ruamel.yaml.clib, ruamel.yaml, bibtexparser, academic\n",
      "Successfully installed academic-0.7.0 bibtexparser-1.1.0 ruamel.yaml-0.16.10 ruamel.yaml.clib-0.2.6\n"
     ]
    }
   ],
   "source": [
    "!pip3 install -U academic"
   ]
  },
  {
   "cell_type": "code",
   "execution_count": null,
   "metadata": {},
   "outputs": [],
   "source": [
    "cd \"\""
   ]
  },
  {
   "cell_type": "code",
   "execution_count": 2,
   "metadata": {},
   "outputs": [
    {
     "ename": "SyntaxError",
     "evalue": "invalid syntax (<ipython-input-2-514fd80e0726>, line 1)",
     "output_type": "error",
     "traceback": [
      "\u001b[0;36m  File \u001b[0;32m\"<ipython-input-2-514fd80e0726>\"\u001b[0;36m, line \u001b[0;32m1\u001b[0m\n\u001b[0;31m    academic import --bibtex \"/Users/erickaxxe/Documents/GitHub/famelo/content/publication/marsiglia_etal_20211/cite.bib\u001b[0m\n\u001b[0m             ^\u001b[0m\n\u001b[0;31mSyntaxError\u001b[0m\u001b[0;31m:\u001b[0m invalid syntax\n"
     ]
    }
   ],
   "source": [
    "!academic import --bibtex \"/Users/erickaxxe/Documents/GitHub/famelo/content/publication/marsiglia_etal_20211/cite.bib"
   ]
  },
  {
   "cell_type": "code",
   "execution_count": null,
   "metadata": {},
   "outputs": [],
   "source": []
  }
 ],
 "metadata": {
  "kernelspec": {
   "display_name": "Python 3",
   "language": "python",
   "name": "python3"
  },
  "language_info": {
   "codemirror_mode": {
    "name": "ipython",
    "version": 3
   },
   "file_extension": ".py",
   "mimetype": "text/x-python",
   "name": "python",
   "nbconvert_exporter": "python",
   "pygments_lexer": "ipython3",
   "version": "3.8.8"
  }
 },
 "nbformat": 4,
 "nbformat_minor": 4
}
