{
 "cells": [
  {
   "cell_type": "code",
   "execution_count": 10,
   "metadata": {},
   "outputs": [
    {
     "ename": "NameError",
     "evalue": "name 'install' is not defined",
     "output_type": "error",
     "traceback": [
      "\u001b[1;31m---------------------------------------------------------------------------\u001b[0m",
      "\u001b[1;31mNameError\u001b[0m                                 Traceback (most recent call last)",
      "\u001b[1;32m<ipython-input-10-d1a1fe643ee6>\u001b[0m in \u001b[0;36m<module>\u001b[1;34m\u001b[0m\n\u001b[0;32m      1\u001b[0m \u001b[1;31m## Install from CRAN\u001b[0m\u001b[1;33m\u001b[0m\u001b[1;33m\u001b[0m\u001b[1;33m\u001b[0m\u001b[0m\n\u001b[1;32m----> 2\u001b[1;33m \u001b[0minstall\u001b[0m\u001b[1;33m.\u001b[0m\u001b[0mpackages\u001b[0m\u001b[1;33m(\u001b[0m\u001b[1;34m'blogdown'\u001b[0m\u001b[1;33m)\u001b[0m\u001b[1;33m\u001b[0m\u001b[1;33m\u001b[0m\u001b[0m\n\u001b[0m\u001b[0;32m      3\u001b[0m \u001b[1;31m## Or, install from GitHub\u001b[0m\u001b[1;33m\u001b[0m\u001b[1;33m\u001b[0m\u001b[1;33m\u001b[0m\u001b[0m\n\u001b[0;32m      4\u001b[0m \u001b[0minstall\u001b[0m\u001b[1;33m.\u001b[0m\u001b[0mpackages\u001b[0m\u001b[1;33m(\u001b[0m\u001b[1;34m'devtools'\u001b[0m\u001b[1;33m)\u001b[0m\u001b[1;33m\u001b[0m\u001b[1;33m\u001b[0m\u001b[0m\n",
      "\u001b[1;31mNameError\u001b[0m: name 'install' is not defined"
     ]
    }
   ],
   "source": [
    "## https://github.com/sourcethemes/academic-admin"
   ]
  },
  {
   "cell_type": "code",
   "execution_count": 1,
   "metadata": {},
   "outputs": [
    {
     "name": "stdout",
     "output_type": "stream",
     "text": [
      "/Users/erickaxxe/Documents/GitHub/famelo\n"
     ]
    }
   ],
   "source": [
    "cd \"/Users/erickaxxe/Documents/GitHub/famelo\""
   ]
  },
  {
   "cell_type": "code",
   "execution_count": 3,
   "metadata": {},
   "outputs": [
    {
     "name": "stdout",
     "output_type": "stream",
     "text": [
      "Collecting git+https://github.com/wowchemy/hugo-academic-cli.git\n",
      "  Cloning https://github.com/wowchemy/hugo-academic-cli.git to /private/var/folders/x6/kljxps1s1gg03jwb51tk_9k00000gn/T/pip-req-build-137cun86\n",
      "  Running command git clone -q https://github.com/wowchemy/hugo-academic-cli.git /private/var/folders/x6/kljxps1s1gg03jwb51tk_9k00000gn/T/pip-req-build-137cun86\n",
      "  Installing build dependencies ... \u001b[?25ldone\n",
      "\u001b[?25h  Getting requirements to build wheel ... \u001b[?25ldone\n",
      "\u001b[?25h    Preparing wheel metadata ... \u001b[?25ldone\n",
      "\u001b[?25hRequirement already satisfied: requests in /usr/local/anaconda3/lib/python3.8/site-packages (from academic==0.7.0) (2.25.1)\n",
      "Requirement already satisfied: toml in /usr/local/anaconda3/lib/python3.8/site-packages (from academic==0.7.0) (0.10.2)\n",
      "Requirement already satisfied: bibtexparser==1.1.0 in /usr/local/anaconda3/lib/python3.8/site-packages (from academic==0.7.0) (1.1.0)\n",
      "Requirement already satisfied: ruamel.yaml==0.16.10 in /usr/local/anaconda3/lib/python3.8/site-packages (from academic==0.7.0) (0.16.10)\n",
      "Requirement already satisfied: pyparsing>=2.0.3 in /usr/local/anaconda3/lib/python3.8/site-packages (from bibtexparser==1.1.0->academic==0.7.0) (2.4.7)\n",
      "Requirement already satisfied: future>=0.16.0 in /usr/local/anaconda3/lib/python3.8/site-packages (from bibtexparser==1.1.0->academic==0.7.0) (0.18.2)\n",
      "Requirement already satisfied: ruamel.yaml.clib>=0.1.2 in /usr/local/anaconda3/lib/python3.8/site-packages (from ruamel.yaml==0.16.10->academic==0.7.0) (0.2.6)\n",
      "Requirement already satisfied: chardet<5,>=3.0.2 in /usr/local/anaconda3/lib/python3.8/site-packages (from requests->academic==0.7.0) (4.0.0)\n",
      "Requirement already satisfied: certifi>=2017.4.17 in /usr/local/anaconda3/lib/python3.8/site-packages (from requests->academic==0.7.0) (2020.12.5)\n",
      "Requirement already satisfied: urllib3<1.27,>=1.21.1 in /usr/local/anaconda3/lib/python3.8/site-packages (from requests->academic==0.7.0) (1.26.4)\n",
      "Requirement already satisfied: idna<3,>=2.5 in /usr/local/anaconda3/lib/python3.8/site-packages (from requests->academic==0.7.0) (2.10)\n"
     ]
    }
   ],
   "source": [
    "!pip3 install -U git+https://github.com/wowchemy/hugo-academic-cli.git"
   ]
  },
  {
   "cell_type": "code",
   "execution_count": 4,
   "metadata": {},
   "outputs": [
    {
     "name": "stdout",
     "output_type": "stream",
     "text": [
      "/bin/sh: hugo: command not found\n",
      "Traceback (most recent call last):\n",
      "  File \"/usr/local/anaconda3/bin/academic\", line 8, in <module>\n",
      "    sys.exit(main())\n",
      "  File \"/usr/local/anaconda3/lib/python3.8/site-packages/academic/cli.py\", line 26, in main\n",
      "    parse_args(sys.argv[1:])  # Strip command name, leave just args.\n",
      "  File \"/usr/local/anaconda3/lib/python3.8/site-packages/academic/cli.py\", line 84, in parse_args\n",
      "    import_bibtex(\n",
      "  File \"/usr/local/anaconda3/lib/python3.8/site-packages/academic/import_bibtex.py\", line 39, in import_bibtex\n",
      "    parse_bibtex_entry(\n",
      "  File \"/usr/local/anaconda3/lib/python3.8/site-packages/academic/import_bibtex.py\", line 85, in parse_bibtex_entry\n",
      "    page.load(Path(\"index.md\"))\n",
      "  File \"/usr/local/anaconda3/lib/python3.8/site-packages/academic/editFM.py\", line 27, in load\n",
      "    with self.path.open(\"r\", encoding=\"utf-8\") as f:\n",
      "  File \"/usr/local/anaconda3/lib/python3.8/pathlib.py\", line 1221, in open\n",
      "    return io.open(self, mode, buffering, encoding, errors, newline,\n",
      "  File \"/usr/local/anaconda3/lib/python3.8/pathlib.py\", line 1077, in _opener\n",
      "    return self._accessor.open(self, flags, mode)\n",
      "FileNotFoundError: [Errno 2] No such file or directory: 'content/publication/marsiglia-migration-2021/index.md'\n"
     ]
    }
   ],
   "source": [
    "!academic import --bibtex cite.bib"
   ]
  },
  {
   "cell_type": "code",
   "execution_count": null,
   "metadata": {},
   "outputs": [],
   "source": []
  }
 ],
 "metadata": {
  "kernelspec": {
   "display_name": "Python 3",
   "language": "python",
   "name": "python3"
  },
  "language_info": {
   "codemirror_mode": {
    "name": "ipython",
    "version": 3
   },
   "file_extension": ".py",
   "mimetype": "text/x-python",
   "name": "python",
   "nbconvert_exporter": "python",
   "pygments_lexer": "ipython3",
   "version": "3.8.8"
  }
 },
 "nbformat": 4,
 "nbformat_minor": 4
}
