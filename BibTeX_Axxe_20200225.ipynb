{
 "cells": [
  {
   "cell_type": "code",
   "execution_count": 2,
   "metadata": {},
   "outputs": [
    {
     "name": "stdout",
     "output_type": "stream",
     "text": [
      "Collecting academic\n",
      "  Downloading https://files.pythonhosted.org/packages/e8/97/52c71534c23da20bee8aa2da07e0efc6523db7c315836156e0885f1e1550/academic-0.5.1-py3-none-any.whl\n",
      "Requirement already satisfied, skipping upgrade: requests in c:\\programdata\\anaconda3\\lib\\site-packages (from academic) (2.22.0)\n",
      "Collecting bibtexparser (from academic)\n",
      "  Downloading https://files.pythonhosted.org/packages/1f/cb/c30ee322d69a569423edbcc9cf544edc5d634f3340f448c918c8a3cbccf0/bibtexparser-1.1.0.tar.gz (46kB)\n",
      "Collecting toml (from academic)\n",
      "  Downloading https://files.pythonhosted.org/packages/a2/12/ced7105d2de62fa7c8fb5fce92cc4ce66b57c95fb875e9318dba7f8c5db0/toml-0.10.0-py2.py3-none-any.whl\n",
      "Requirement already satisfied, skipping upgrade: certifi>=2017.4.17 in c:\\programdata\\anaconda3\\lib\\site-packages (from requests->academic) (2019.6.16)\n",
      "Requirement already satisfied, skipping upgrade: idna<2.9,>=2.5 in c:\\programdata\\anaconda3\\lib\\site-packages (from requests->academic) (2.8)\n",
      "Requirement already satisfied, skipping upgrade: urllib3!=1.25.0,!=1.25.1,<1.26,>=1.21.1 in c:\\programdata\\anaconda3\\lib\\site-packages (from requests->academic) (1.24.2)\n",
      "Requirement already satisfied, skipping upgrade: chardet<3.1.0,>=3.0.2 in c:\\programdata\\anaconda3\\lib\\site-packages (from requests->academic) (3.0.4)\n",
      "Requirement already satisfied, skipping upgrade: pyparsing>=2.0.3 in c:\\programdata\\anaconda3\\lib\\site-packages (from bibtexparser->academic) (2.4.0)\n",
      "Requirement already satisfied, skipping upgrade: future>=0.16.0 in c:\\programdata\\anaconda3\\lib\\site-packages (from bibtexparser->academic) (0.17.1)\n",
      "Building wheels for collected packages: bibtexparser\n",
      "  Building wheel for bibtexparser (setup.py): started\n",
      "  Building wheel for bibtexparser (setup.py): finished with status 'done'\n",
      "  Stored in directory: C:\\Users\\axxe.1la\\AppData\\Local\\pip\\Cache\\wheels\\aa\\4b\\a0\\424a31590e13ddc0e9cbb6ac5d27addef407b1dd781dbef1b1\n",
      "Successfully built bibtexparser\n",
      "Installing collected packages: bibtexparser, toml, academic\n",
      "Successfully installed academic-0.5.1 bibtexparser-1.1.0 toml-0.10.0\n"
     ]
    }
   ],
   "source": [
    "!pip install -U academic"
   ]
  },
  {
   "cell_type": "code",
   "execution_count": 6,
   "metadata": {},
   "outputs": [],
   "source": [
    "from academic import cli"
   ]
  },
  {
   "cell_type": "code",
   "execution_count": 3,
   "metadata": {},
   "outputs": [
    {
     "name": "stdout",
     "output_type": "stream",
     "text": [
      "C:\\Users\\axxe.1la\\Documents\\GitHub\\famelo\n"
     ]
    }
   ],
   "source": [
    "cd \"C:\\Users\\axxe.1la\\Documents\\GitHub\\famelo\""
   ]
  },
  {
   "cell_type": "code",
   "execution_count": null,
   "metadata": {},
   "outputs": [],
   "source": []
  }
 ],
 "metadata": {
  "kernelspec": {
   "display_name": "Python 3",
   "language": "python",
   "name": "python3"
  },
  "language_info": {
   "codemirror_mode": {
    "name": "ipython",
    "version": 3
   },
   "file_extension": ".py",
   "mimetype": "text/x-python",
   "name": "python",
   "nbconvert_exporter": "python",
   "pygments_lexer": "ipython3",
   "version": "3.7.3"
  }
 },
 "nbformat": 4,
 "nbformat_minor": 2
}
