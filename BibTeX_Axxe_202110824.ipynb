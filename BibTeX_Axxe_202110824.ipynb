{
 "cells": [
  {
   "cell_type": "code",
   "execution_count": 10,
   "metadata": {},
   "outputs": [
    {
     "ename": "NameError",
     "evalue": "name 'install' is not defined",
     "output_type": "error",
     "traceback": [
      "\u001b[1;31m---------------------------------------------------------------------------\u001b[0m",
      "\u001b[1;31mNameError\u001b[0m                                 Traceback (most recent call last)",
      "\u001b[1;32m<ipython-input-10-d1a1fe643ee6>\u001b[0m in \u001b[0;36m<module>\u001b[1;34m\u001b[0m\n\u001b[0;32m      1\u001b[0m \u001b[1;31m## Install from CRAN\u001b[0m\u001b[1;33m\u001b[0m\u001b[1;33m\u001b[0m\u001b[1;33m\u001b[0m\u001b[0m\n\u001b[1;32m----> 2\u001b[1;33m \u001b[0minstall\u001b[0m\u001b[1;33m.\u001b[0m\u001b[0mpackages\u001b[0m\u001b[1;33m(\u001b[0m\u001b[1;34m'blogdown'\u001b[0m\u001b[1;33m)\u001b[0m\u001b[1;33m\u001b[0m\u001b[1;33m\u001b[0m\u001b[0m\n\u001b[0m\u001b[0;32m      3\u001b[0m \u001b[1;31m## Or, install from GitHub\u001b[0m\u001b[1;33m\u001b[0m\u001b[1;33m\u001b[0m\u001b[1;33m\u001b[0m\u001b[0m\n\u001b[0;32m      4\u001b[0m \u001b[0minstall\u001b[0m\u001b[1;33m.\u001b[0m\u001b[0mpackages\u001b[0m\u001b[1;33m(\u001b[0m\u001b[1;34m'devtools'\u001b[0m\u001b[1;33m)\u001b[0m\u001b[1;33m\u001b[0m\u001b[1;33m\u001b[0m\u001b[0m\n",
      "\u001b[1;31mNameError\u001b[0m: name 'install' is not defined"
     ]
    }
   ],
   "source": [
    "## https://github.com/sourcethemes/academic-admin"
   ]
  },
  {
   "cell_type": "code",
   "execution_count": 32,
   "metadata": {},
   "outputs": [
    {
     "name": "stdout",
     "output_type": "stream",
     "text": [
      "Collecting academic==0.5.1\n",
      "  Downloading academic-0.5.1-py3-none-any.whl (9.6 kB)\n",
      "Requirement already satisfied: requests in /usr/local/anaconda3/lib/python3.8/site-packages (from academic==0.5.1) (2.25.1)\n",
      "Requirement already satisfied: bibtexparser in /usr/local/anaconda3/lib/python3.8/site-packages (from academic==0.5.1) (1.1.0)\n",
      "Requirement already satisfied: toml in /usr/local/anaconda3/lib/python3.8/site-packages (from academic==0.5.1) (0.10.2)\n",
      "Requirement already satisfied: future>=0.16.0 in /usr/local/anaconda3/lib/python3.8/site-packages (from bibtexparser->academic==0.5.1) (0.18.2)\n",
      "Requirement already satisfied: pyparsing>=2.0.3 in /usr/local/anaconda3/lib/python3.8/site-packages (from bibtexparser->academic==0.5.1) (2.4.7)\n",
      "Requirement already satisfied: urllib3<1.27,>=1.21.1 in /usr/local/anaconda3/lib/python3.8/site-packages (from requests->academic==0.5.1) (1.26.4)\n",
      "Requirement already satisfied: chardet<5,>=3.0.2 in /usr/local/anaconda3/lib/python3.8/site-packages (from requests->academic==0.5.1) (4.0.0)\n",
      "Requirement already satisfied: certifi>=2017.4.17 in /usr/local/anaconda3/lib/python3.8/site-packages (from requests->academic==0.5.1) (2020.12.5)\n",
      "Requirement already satisfied: idna<3,>=2.5 in /usr/local/anaconda3/lib/python3.8/site-packages (from requests->academic==0.5.1) (2.10)\n",
      "Installing collected packages: academic\n",
      "  Attempting uninstall: academic\n",
      "    Found existing installation: academic 0.8.1\n",
      "    Uninstalling academic-0.8.1:\n",
      "      Successfully uninstalled academic-0.8.1\n",
      "Successfully installed academic-0.5.1\n"
     ]
    }
   ],
   "source": [
    "!pip3 install academic==0.5.1"
   ]
  },
  {
   "cell_type": "code",
   "execution_count": 2,
   "metadata": {},
   "outputs": [
    {
     "name": "stdout",
     "output_type": "stream",
     "text": [
      "/Users/erickaxxe/Documents/GitHub/famelo\n"
     ]
    }
   ],
   "source": [
    "cd \"/Users/erickaxxe/Documents/GitHub/famelo\""
   ]
  },
  {
   "cell_type": "code",
   "execution_count": 33,
   "metadata": {},
   "outputs": [],
   "source": [
    "!academic import --bibtex 'WebsitePublications.bib' --overwrite"
   ]
  },
  {
   "cell_type": "code",
   "execution_count": 27,
   "metadata": {},
   "outputs": [
    {
     "name": "stdout",
     "output_type": "stream",
     "text": [
      "usage: academic [-h] {import} ...\n",
      "\n",
      "Hugo Academic CLI v0.8.1\n",
      "https://github.com/wowchemy/hugo-academic-cli\n",
      "\n",
      "positional arguments:\n",
      "  {import}    Sub-commands\n",
      "    import    Import data into Academic\n",
      "\n",
      "optional arguments:\n",
      "  -h, --help  show this help message and exit\n"
     ]
    }
   ],
   "source": [
    "!academic"
   ]
  },
  {
   "cell_type": "code",
   "execution_count": 28,
   "metadata": {},
   "outputs": [
    {
     "name": "stdout",
     "output_type": "stream",
     "text": [
      "usage: academic [-h] {import} ...\n",
      "\n",
      "Hugo Academic CLI v0.8.1\n",
      "https://github.com/wowchemy/hugo-academic-cli\n",
      "\n",
      "positional arguments:\n",
      "  {import}    Sub-commands\n",
      "    import    Import data into Academic\n",
      "\n",
      "optional arguments:\n",
      "  -h, --help  show this help message and exit\n"
     ]
    }
   ],
   "source": [
    "!academic --help"
   ]
  },
  {
   "cell_type": "code",
   "execution_count": null,
   "metadata": {},
   "outputs": [],
   "source": []
  }
 ],
 "metadata": {
  "kernelspec": {
   "display_name": "Python 3",
   "language": "python",
   "name": "python3"
  },
  "language_info": {
   "codemirror_mode": {
    "name": "ipython",
    "version": 3
   },
   "file_extension": ".py",
   "mimetype": "text/x-python",
   "name": "python",
   "nbconvert_exporter": "python",
   "pygments_lexer": "ipython3",
   "version": "3.8.8"
  }
 },
 "nbformat": 4,
 "nbformat_minor": 4
}
